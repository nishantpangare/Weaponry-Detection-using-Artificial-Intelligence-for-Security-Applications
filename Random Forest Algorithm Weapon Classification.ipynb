{
 "cells": [
  {
   "cell_type": "code",
   "execution_count": 1,
   "id": "230a39aa",
   "metadata": {},
   "outputs": [],
   "source": [
    "#import os to interact with os\n",
    "import os\n",
    "import numpy as np\n",
    "#PIL(python imaging liberary which provides tools for working with images in Python.)\n",
    "from PIL import Image\n",
    "#imports train test split function from sklearn liberary\n",
    "from sklearn.model_selection import train_test_split\n",
    "#imported raandom forest algorithm from sklearn\n",
    "from sklearn.ensemble import RandomForestClassifier\n"
   ]
  },
  {
   "cell_type": "code",
   "execution_count": 2,
   "id": "f744b618",
   "metadata": {},
   "outputs": [],
   "source": [
    "# Define the path to your image data folders\n",
    "data_dir = 'D:\\PYTHON\\Dataset'\n"
   ]
  },
  {
   "cell_type": "code",
   "execution_count": 3,
   "id": "a88c8af7",
   "metadata": {},
   "outputs": [],
   "source": [
    "# Define the target labels and corresponding folders\n",
    "#labels = ['Knife', 'DSR 50', 'M1911 Browning Pistol', 'Sniper Rifle', 'TPR', 'UZI',]\n",
    "#folders =['AK47', 'DSR 50', 'M1911 Browning Pistol', 'Sniper Rifle', 'TPR', 'UZI',]\n",
    "\n",
    "labels = ['Knife256','Gun256']\n",
    "folders = ['Knife256','Gun256']\n"
   ]
  },
  {
   "cell_type": "code",
   "execution_count": 4,
   "id": "faa389f2",
   "metadata": {},
   "outputs": [],
   "source": [
    "# Load the image data and corresponding labels\n",
    "data = []\n",
    "#to store the image data\n",
    "target = []\n",
    "# to store target variables ie labels\n",
    "for i, folder in enumerate(folders):\n",
    "    folder_path = os.path.join(data_dir, folder)\n",
    "    for file in os.listdir(folder_path):\n",
    "        image_path = os.path.join(folder_path, file)\n",
    "        image = Image.open(image_path)\n",
    "        data.append(np.array(image).flatten())\n",
    "        target.append(i)"
   ]
  },
  {
   "cell_type": "code",
   "execution_count": 5,
   "id": "d067709b",
   "metadata": {},
   "outputs": [],
   "source": [
    "# Split the data into training and testing sets\n",
    "X_train, X_test, y_train, y_test = train_test_split(data, target, test_size=0.2, random_state=42)\n"
   ]
  },
  {
   "cell_type": "code",
   "execution_count": 9,
   "id": "e05651ed",
   "metadata": {},
   "outputs": [],
   "source": [
    "# Define the Random Forest classifier with 100 trees\n",
    "rf = RandomForestClassifier(n_estimators=200,random_state=42)"
   ]
  },
  {
   "cell_type": "code",
   "execution_count": 10,
   "id": "9cf99f3a",
   "metadata": {},
   "outputs": [
    {
     "data": {
      "text/plain": [
       "RandomForestClassifier(random_state=42)"
      ]
     },
     "execution_count": 10,
     "metadata": {},
     "output_type": "execute_result"
    }
   ],
   "source": [
    "# Fit the classifier to the training data\n",
    "rf.fit(X_train, y_train)\n"
   ]
  },
  {
   "cell_type": "markdown",
   "id": "2c564e1e",
   "metadata": {},
   "source": [
    "## Evaluate the classifier on the testing data"
   ]
  },
  {
   "cell_type": "code",
   "execution_count": 11,
   "id": "0a48d1b9",
   "metadata": {},
   "outputs": [
    {
     "name": "stdout",
     "output_type": "stream",
     "text": [
      "Accuracy: 88.64%\n"
     ]
    }
   ],
   "source": [
    "accuracy = rf.score(X_test, y_test)\n",
    "print(\"Accuracy: {:.2f}%\".format(accuracy * 100))"
   ]
  },
  {
   "cell_type": "code",
   "execution_count": 30,
   "id": "b36da129",
   "metadata": {},
   "outputs": [],
   "source": [
    "import os\n",
    "import numpy as np\n",
    "from PIL import Image\n"
   ]
  },
  {
   "cell_type": "code",
   "execution_count": 33,
   "id": "27ffb369",
   "metadata": {},
   "outputs": [],
   "source": [
    "# Define the path to the image you want to predict\n",
    "image_path = 'D:\\PYTHON\\Dataset\\Gun256\\ (732).jpeg'"
   ]
  },
  {
   "cell_type": "code",
   "execution_count": 34,
   "id": "60b14024",
   "metadata": {},
   "outputs": [],
   "source": [
    "# Load the image and flatten it\n",
    "image = Image.open(image_path)\n",
    "image_data = np.array(image).flatten()"
   ]
  },
  {
   "cell_type": "code",
   "execution_count": 35,
   "id": "36f0c66e",
   "metadata": {},
   "outputs": [],
   "source": [
    " # Make a prediction on the image data using the trained Random Forest classifier\n",
    "prediction = rf.predict([image_data])"
   ]
  },
  {
   "cell_type": "markdown",
   "id": "be057a6a",
   "metadata": {},
   "source": [
    "### Print the predicted and actual labels"
   ]
  },
  {
   "cell_type": "code",
   "execution_count": 36,
   "id": "361a482c",
   "metadata": {},
   "outputs": [
    {
     "name": "stdout",
     "output_type": "stream",
     "text": [
      "Predicted label: Gun256\n",
      "Actual label: Gun256\n"
     ]
    }
   ],
   "source": [
    "predicted_label = labels[prediction[0]]\n",
    "print(\"Predicted label:\", predicted_label)\n",
    "actual_label = os.path.basename(os.path.dirname(image_path))\n",
    "print(\"Actual label:\", actual_label)"
   ]
  },
  {
   "cell_type": "code",
   "execution_count": null,
   "id": "fcd26b34",
   "metadata": {},
   "outputs": [],
   "source": []
  }
 ],
 "metadata": {
  "kernelspec": {
   "display_name": "Python 3 (ipykernel)",
   "language": "python",
   "name": "python3"
  },
  "language_info": {
   "codemirror_mode": {
    "name": "ipython",
    "version": 3
   },
   "file_extension": ".py",
   "mimetype": "text/x-python",
   "name": "python",
   "nbconvert_exporter": "python",
   "pygments_lexer": "ipython3",
   "version": "3.9.7"
  }
 },
 "nbformat": 4,
 "nbformat_minor": 5
}
