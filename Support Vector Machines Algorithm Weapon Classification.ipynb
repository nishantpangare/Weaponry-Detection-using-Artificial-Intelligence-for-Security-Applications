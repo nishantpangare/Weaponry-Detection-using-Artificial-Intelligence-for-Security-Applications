{
 "cells": [
  {
   "cell_type": "code",
   "execution_count": 31,
   "id": "261b44a7",
   "metadata": {},
   "outputs": [
    {
     "name": "stdout",
     "output_type": "stream",
     "text": [
      "Requirement already satisfied: opencv-python in d:\\python\\lib\\site-packages (4.7.0.72)"
     ]
    },
    {
     "name": "stderr",
     "output_type": "stream",
     "text": [
      "WARNING: You are using pip version 21.2.3; however, version 23.0.1 is available.\n",
      "You should consider upgrading via the 'D:\\PYTHON\\python.exe -m pip install --upgrade pip' command.\n"
     ]
    },
    {
     "name": "stdout",
     "output_type": "stream",
     "text": [
      "\n",
      "Requirement already satisfied: numpy>=1.17.0 in d:\\python\\lib\\site-packages (from opencv-python) (1.22.1)\n"
     ]
    }
   ],
   "source": [
    "!pip install opencv-python"
   ]
  },
  {
   "cell_type": "code",
   "execution_count": 1,
   "id": "ab519d54",
   "metadata": {},
   "outputs": [],
   "source": [
    "# Import necessary libraries\n",
    "import numpy as np\n",
    "import pandas as pd\n",
    "import os\n",
    "import cv2\n",
    "from sklearn.model_selection import train_test_split\n",
    "from sklearn.svm import SVC\n",
    "from sklearn.metrics import accuracy_score"
   ]
  },
  {
   "cell_type": "code",
   "execution_count": 2,
   "id": "1996eb30",
   "metadata": {},
   "outputs": [],
   "source": [
    "# Define the path where your images are stored\n",
    "data_path = 'D:\\PYTHON\\Dataset'\n",
    "weapon_folders = [\"Gun256\",\"Knife256\"]\n",
    "# Define the different diseases folders\n",
    "#weapon_folders = [\"AK47\", \"DSR 50\", \"M1911 Browning Pistol\", \"Sniper Rifle\", \"TPR\",\"UZI\",\"Knife\"]\n"
   ]
  },
  {
   "cell_type": "code",
   "execution_count": 3,
   "id": "c076e6bf",
   "metadata": {},
   "outputs": [],
   "source": [
    "X = []\n",
    "y = []\n",
    "for idx, folder in enumerate(weapon_folders):\n",
    "    folder_path = os.path.join(data_path, folder)\n",
    "    for filename in os.listdir(folder_path):\n",
    "        img_path = os.path.join(folder_path, filename)\n",
    "        img = cv2.imread(img_path)\n",
    "        img = cv2.resize(img, (256, 256)) # Resize the image to a fixed size\n",
    "        X.append(img)\n",
    "        y.append(idx)"
   ]
  },
  {
   "cell_type": "code",
   "execution_count": 4,
   "id": "9e4052e7",
   "metadata": {},
   "outputs": [],
   "source": [
    "# Convert to numpy arrays\n",
    "X = np.array(X)\n",
    "y = np.array(y)"
   ]
  },
  {
   "cell_type": "code",
   "execution_count": 5,
   "id": "0719b3f8",
   "metadata": {},
   "outputs": [],
   "source": [
    "# Split data into training and testing sets\n",
    "X_train, X_test, y_train, y_test = train_test_split(X, y, test_size=0.2, random_state=42)\n"
   ]
  },
  {
   "cell_type": "code",
   "execution_count": 6,
   "id": "643b2e3a",
   "metadata": {},
   "outputs": [],
   "source": [
    "# Flatten the images\n",
    "X_train = X_train.reshape(X_train.shape[0], -1)\n",
    "X_test = X_test.reshape(X_test.shape[0], -1)"
   ]
  },
  {
   "cell_type": "code",
   "execution_count": 7,
   "id": "ddae24be",
   "metadata": {},
   "outputs": [],
   "source": [
    "# Define the SVM model\n",
    "svm = SVC(kernel='linear')\n"
   ]
  },
  {
   "cell_type": "code",
   "execution_count": 8,
   "id": "cffb8e76",
   "metadata": {},
   "outputs": [
    {
     "data": {
      "text/plain": [
       "SVC(kernel='linear')"
      ]
     },
     "execution_count": 8,
     "metadata": {},
     "output_type": "execute_result"
    }
   ],
   "source": [
    "# Train the model\n",
    "svm.fit(X_train, y_train)\n"
   ]
  },
  {
   "cell_type": "code",
   "execution_count": null,
   "id": "177106f9",
   "metadata": {},
   "outputs": [],
   "source": []
  },
  {
   "cell_type": "code",
   "execution_count": 9,
   "id": "458b4d83",
   "metadata": {},
   "outputs": [],
   "source": [
    "# Make predictions on the test set\n",
    "y_pred = svm.predict(X_test)"
   ]
  },
  {
   "cell_type": "markdown",
   "id": "0bc97286",
   "metadata": {},
   "source": [
    "### Calculating the accuracy"
   ]
  },
  {
   "cell_type": "code",
   "execution_count": 10,
   "id": "1cc9fee7",
   "metadata": {},
   "outputs": [
    {
     "name": "stdout",
     "output_type": "stream",
     "text": [
      "Accuracy:  74.0909090909091\n"
     ]
    }
   ],
   "source": [
    "accuracy = accuracy_score(y_test, y_pred)\n",
    "print(\"Accuracy: \", accuracy*100)"
   ]
  },
  {
   "cell_type": "code",
   "execution_count": 11,
   "id": "9f44c1e5",
   "metadata": {},
   "outputs": [],
   "source": [
    "import os\n",
    "import numpy as np\n",
    "from PIL import Image"
   ]
  },
  {
   "cell_type": "code",
   "execution_count": 14,
   "id": "94ca0d26",
   "metadata": {},
   "outputs": [],
   "source": [
    "# Define the path to the image you want to predict\n",
    "image_path = 'D:\\PYTHON\\Dataset\\Gun256\\(27).jpeg'"
   ]
  },
  {
   "cell_type": "code",
   "execution_count": 15,
   "id": "9b45b46c",
   "metadata": {},
   "outputs": [],
   "source": [
    "# Load the image and flatten it\n",
    "image = Image.open(image_path)\n",
    "image_data = np.array(image).flatten()"
   ]
  },
  {
   "cell_type": "code",
   "execution_count": 16,
   "id": "54e545cc",
   "metadata": {},
   "outputs": [],
   "source": [
    " # Make a prediction on the image data using the trained Random Forest classifier\n",
    "prediction = svm.predict([image_data])"
   ]
  },
  {
   "cell_type": "markdown",
   "id": "e7d8d169",
   "metadata": {},
   "source": [
    "### Print the predicted and actual labels"
   ]
  },
  {
   "cell_type": "code",
   "execution_count": 18,
   "id": "5303027c",
   "metadata": {},
   "outputs": [
    {
     "name": "stdout",
     "output_type": "stream",
     "text": [
      "Predicted label: Gun256\n",
      "Actual label: Gun256\n"
     ]
    }
   ],
   "source": [
    "predicted_label = weapon_folders[prediction[0]]\n",
    "print(\"Predicted label:\", predicted_label)\n",
    "actual_label = os.path.basename(os.path.dirname(image_path))\n",
    "print(\"Actual label:\", actual_label)"
   ]
  }
 ],
 "metadata": {
  "kernelspec": {
   "display_name": "Python 3 (ipykernel)",
   "language": "python",
   "name": "python3"
  },
  "language_info": {
   "codemirror_mode": {
    "name": "ipython",
    "version": 3
   },
   "file_extension": ".py",
   "mimetype": "text/x-python",
   "name": "python",
   "nbconvert_exporter": "python",
   "pygments_lexer": "ipython3",
   "version": "3.9.7"
  }
 },
 "nbformat": 4,
 "nbformat_minor": 5
}
