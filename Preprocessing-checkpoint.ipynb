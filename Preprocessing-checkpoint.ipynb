{
 "cells": [
  {
   "cell_type": "code",
   "execution_count": 3,
   "id": "42b1c3c5",
   "metadata": {},
   "outputs": [],
   "source": [
    "#for yellow leaves/sunlight deficiency\n",
    "from PIL import Image\n",
    "import os\n",
    "\n",
    "# specify the directory containing the JPEG images\n",
    "jpeg_dir =r'C:\\Users\\DELL\\Downloads\\Dataset\\Knife'\n",
    "\n",
    "# create a directory for the JPEG converted images\n",
    "if not os.path.exists('jpg_images'):\n",
    "    os.makedirs('Knife')\n",
    "\n",
    "# loop through all the JPEG images in the directory\n",
    "for filename in os.listdir(jpeg_dir):\n",
    "    if filename.endswith('.jpeg') or filename.endswith('.jpg'):\n",
    "        # open the image\n",
    "        image = Image.open(os.path.join(jpeg_dir, filename))\n",
    "        # convert the image to JPEG format and resize to 256x256 dimensions\n",
    "        image = image.convert('RGB').resize((256, 256))\n",
    "        # save the image in the jpg_images directory\n",
    "        new_filename = os.path.splitext(filename)[0] + '.jpeg'\n",
    "        image.save(os.path.join('Knife', new_filename))\n"
   ]
  },
  {
   "cell_type": "markdown",
   "id": "378d517f",
   "metadata": {},
   "source": [
    "# Pre-processing"
   ]
  },
  {
   "cell_type": "code",
   "execution_count": 5,
   "id": "dcb2451b",
   "metadata": {},
   "outputs": [],
   "source": [
    "\n",
    "from PIL import Image\n",
    "import os\n",
    "\n",
    "# directory \n",
    "jpeg_dir = r'D:\\PYTHON\\Dataset\\Gun'\n",
    "\n",
    "# creating a new directory\n",
    "if not os.path.exists('jpg_images'):\n",
    "    os.makedirs('Gun256')\n",
    "\n",
    "# loops through all Jpg or Jpeg images and \n",
    "for filename in os.listdir(jpeg_dir):\n",
    "    if filename.endswith('.jpeg') or filename.endswith('.jpg'):\n",
    "        # open the image\n",
    "        image = Image.open(os.path.join(jpeg_dir, filename))\n",
    "        # convert the image to JPEG format and resize to 256x256 dimensions\n",
    "        image = image.convert('RGB').resize((256, 256))\n",
    "        # save the image in the jpg_images directory\n",
    "        new_filename = os.path.splitext(filename)[0] + '.jpeg'\n",
    "        image.save(os.path.join('Gun256', new_filename))\n"
   ]
  },
  {
   "cell_type": "code",
   "execution_count": null,
   "id": "54c51b8d",
   "metadata": {},
   "outputs": [],
   "source": []
  }
 ],
 "metadata": {
  "kernelspec": {
   "display_name": "Python 3 (ipykernel)",
   "language": "python",
   "name": "python3"
  },
  "language_info": {
   "codemirror_mode": {
    "name": "ipython",
    "version": 3
   },
   "file_extension": ".py",
   "mimetype": "text/x-python",
   "name": "python",
   "nbconvert_exporter": "python",
   "pygments_lexer": "ipython3",
   "version": "3.9.7"
  }
 },
 "nbformat": 4,
 "nbformat_minor": 5
}
